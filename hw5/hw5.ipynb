{
 "cells": [
  {
   "cell_type": "code",
   "execution_count": 1,
   "metadata": {},
   "outputs": [],
   "source": [
    "import pandas as pd\n",
    "import math\n",
    "import sqlite3 as sql\n",
    "import csv"
   ]
  },
  {
   "cell_type": "code",
   "execution_count": 2,
   "metadata": {},
   "outputs": [],
   "source": [
    "# Connect to database using sqlite3\n",
    "con = sql.connect(\"chinook.db\")"
   ]
  },
  {
   "cell_type": "code",
   "execution_count": 8,
   "metadata": {},
   "outputs": [
    {
     "name": "stdout",
     "output_type": "stream",
     "text": [
      "      ArtistId           Name  AlbumId  \\\n",
      "0            8     Audioslave      271   \n",
      "1            8     Audioslave      271   \n",
      "2            8     Audioslave      271   \n",
      "3            8     Audioslave      271   \n",
      "4            8     Audioslave      271   \n",
      "...        ...            ...      ...   \n",
      "8710       114  Ozzy Osbourne      171   \n",
      "8711       114  Ozzy Osbourne      171   \n",
      "8712       114  Ozzy Osbourne      172   \n",
      "8713       179      Scorpions      257   \n",
      "8714        68    Miles Davis       48   \n",
      "\n",
      "                                                  Title  TrackId  \\\n",
      "0                                           Revelations     3402   \n",
      "1                                           Revelations     3389   \n",
      "2                                           Revelations     3390   \n",
      "3                                           Revelations     3391   \n",
      "4                                           Revelations     3392   \n",
      "...                                                 ...      ...   \n",
      "8710                                    Blizzard of Ozz     2094   \n",
      "8711                                    Blizzard of Ozz     2095   \n",
      "8712                     Diary of a Madman (Remastered)     2096   \n",
      "8713  20th Century Masters - The Millennium Collecti...     3290   \n",
      "8714                 The Essential Miles Davis [Disc 1]      597   \n",
      "\n",
      "                                                Name  GenreId         Name  \\\n",
      "0     Band Members Discuss Tracks from \"Revelations\"       23  Alternative   \n",
      "1                                        Revelations       23  Alternative   \n",
      "2                                   One and the Same       23  Alternative   \n",
      "3                                     Sound of a Gun       23  Alternative   \n",
      "4                                      Until We Fall       23  Alternative   \n",
      "...                                              ...      ...          ...   \n",
      "8710                                    I Don't Know        1         Rock   \n",
      "8711                                     Crazy Train        1         Rock   \n",
      "8712                               Flying High Again        1         Rock   \n",
      "8713                                         The Zoo        1         Rock   \n",
      "8714                                  Now's The Time        2         Jazz   \n",
      "\n",
      "      PlaylistId                 Name  \n",
      "0              1                Music  \n",
      "1              1                Music  \n",
      "2              1                Music  \n",
      "3              1                Music  \n",
      "4              1                Music  \n",
      "...          ...                  ...  \n",
      "8710          17  Heavy Metal Classic  \n",
      "8711          17  Heavy Metal Classic  \n",
      "8712          17  Heavy Metal Classic  \n",
      "8713          17  Heavy Metal Classic  \n",
      "8714          18          On-The-Go 1  \n",
      "\n",
      "[8715 rows x 10 columns]\n"
     ]
    }
   ],
   "source": [
    "# a) Write an SQL query to gather information about the artists, their albums, tracks, genres, and playlists. Import this information into a pandas data frame.\n",
    "\n",
    "query = '''\n",
    "    SELECT r.ArtistId, r.Name, l.AlbumId, l.Title, t.TrackId, t.Name, g.GenreId, g.Name, p.PlaylistId, p.Name\n",
    "    FROM Track t\n",
    "    JOIN Album l USING(AlbumId)\n",
    "    JOIN Artist r USING(ArtistId)\n",
    "    JOIN Genre g USING(GenreId)\n",
    "    JOIN PlaylistTrack USING(TrackId)\n",
    "    JOIN Playlist p USING(PlaylistId);\n",
    "    '''\n",
    "\n",
    "music_df = pd.read_sql_query(query, con)\n",
    "\n",
    "print(music_df)"
   ]
  },
  {
   "cell_type": "code",
   "execution_count": 10,
   "metadata": {},
   "outputs": [
    {
     "name": "stdout",
     "output_type": "stream",
     "text": [
      "    ArtistId        Name  AlbumId         Title  TrackId  \\\n",
      "0          8  Audioslave      271   Revelations     3402   \n",
      "1          8  Audioslave      271   Revelations     3389   \n",
      "2          8  Audioslave      271   Revelations     3390   \n",
      "3          8  Audioslave      271   Revelations     3391   \n",
      "4          8  Audioslave      271   Revelations     3392   \n",
      "5          8  Audioslave      271   Revelations     3393   \n",
      "6          8  Audioslave      271   Revelations     3394   \n",
      "7          8  Audioslave      271   Revelations     3395   \n",
      "8          8  Audioslave      271   Revelations     3396   \n",
      "9          8  Audioslave      271   Revelations     3397   \n",
      "10         8  Audioslave      271   Revelations     3398   \n",
      "11         8  Audioslave      271   Revelations     3399   \n",
      "12         8  Audioslave      271   Revelations     3400   \n",
      "13         8  Audioslave      271   Revelations     3401   \n",
      "40         8  Audioslave       11  Out Of Exile       99   \n",
      "41         8  Audioslave       11  Out Of Exile      100   \n",
      "42         8  Audioslave       11  Out Of Exile      101   \n",
      "43         8  Audioslave       11  Out Of Exile      102   \n",
      "44         8  Audioslave       11  Out Of Exile      103   \n",
      "45         8  Audioslave       11  Out Of Exile      104   \n",
      "\n",
      "                                                Name  GenreId  \\\n",
      "0     Band Members Discuss Tracks from \"Revelations\"       23   \n",
      "1                                        Revelations       23   \n",
      "2                                   One and the Same       23   \n",
      "3                                     Sound of a Gun       23   \n",
      "4                                      Until We Fall       23   \n",
      "5                                      Original Fire       23   \n",
      "6                                        Broken City       23   \n",
      "7                                           Somedays       23   \n",
      "8                            Shape of Things to Come       23   \n",
      "9                            Jewel of the Summertime       23   \n",
      "10                                        Wide Awake       23   \n",
      "11                   Nothing Left to Say But Goodbye       23   \n",
      "12                                              Moth       23   \n",
      "13  Show Me How to Live (Live at the Quart Festival)       23   \n",
      "40                                Your Time Has Come        4   \n",
      "41                                      Out Of Exile        4   \n",
      "42                                       Be Yourself        4   \n",
      "43                                 Doesn't Remind Me        4   \n",
      "44                                   Drown Me Slowly        4   \n",
      "45                                     Heaven's Dead        4   \n",
      "\n",
      "                  Name  PlaylistId   Name  \n",
      "0          Alternative           1  Music  \n",
      "1          Alternative           1  Music  \n",
      "2          Alternative           1  Music  \n",
      "3          Alternative           1  Music  \n",
      "4          Alternative           1  Music  \n",
      "5          Alternative           1  Music  \n",
      "6          Alternative           1  Music  \n",
      "7          Alternative           1  Music  \n",
      "8          Alternative           1  Music  \n",
      "9          Alternative           1  Music  \n",
      "10         Alternative           1  Music  \n",
      "11         Alternative           1  Music  \n",
      "12         Alternative           1  Music  \n",
      "13         Alternative           1  Music  \n",
      "40  Alternative & Punk           1  Music  \n",
      "41  Alternative & Punk           1  Music  \n",
      "42  Alternative & Punk           1  Music  \n",
      "43  Alternative & Punk           1  Music  \n",
      "44  Alternative & Punk           1  Music  \n",
      "45  Alternative & Punk           1  Music  \n"
     ]
    }
   ],
   "source": [
    "# 10 points) Select all the artists that have more than one album for the analysis below\n",
    "grouped_df = music_df.groupby(['ArtistId']).filter(lambda x: x['AlbumId'].nunique() > 1)\n",
    "\n",
    "print(grouped_df.head(20))"
   ]
  },
  {
   "cell_type": "code",
   "execution_count": 12,
   "metadata": {},
   "outputs": [
    {
     "name": "stdout",
     "output_type": "stream",
     "text": [
      "<pandas.core.groupby.generic.DataFrameGroupBy object at 0x138b39a50>\n"
     ]
    }
   ],
   "source": [
    "print(grouped_df.groupby(['ArtistId']))"
   ]
  },
  {
   "cell_type": "code",
   "execution_count": null,
   "metadata": {},
   "outputs": [],
   "source": []
  }
 ],
 "metadata": {
  "kernelspec": {
   "display_name": "Python 3",
   "language": "python",
   "name": "python3"
  },
  "language_info": {
   "codemirror_mode": {
    "name": "ipython",
    "version": 3
   },
   "file_extension": ".py",
   "mimetype": "text/x-python",
   "name": "python",
   "nbconvert_exporter": "python",
   "pygments_lexer": "ipython3",
   "version": "3.10.1"
  },
  "orig_nbformat": 4
 },
 "nbformat": 4,
 "nbformat_minor": 2
}
